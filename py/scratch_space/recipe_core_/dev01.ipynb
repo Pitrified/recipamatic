{
 "cells": [
  {
   "cell_type": "markdown",
   "metadata": {},
   "source": [
    "# Convert a recipe text to a `RecipeCore`\n"
   ]
  },
  {
   "cell_type": "code",
   "execution_count": null,
   "metadata": {},
   "outputs": [],
   "source": [
    "%load_ext autoreload\n",
    "%autoreload 2\n"
   ]
  },
  {
   "cell_type": "code",
   "execution_count": null,
   "metadata": {},
   "outputs": [],
   "source": [
    "from rich import print as rprint"
   ]
  },
  {
   "cell_type": "code",
   "execution_count": null,
   "metadata": {},
   "outputs": [],
   "source": [
    "recipe_text = \"\"\"To make a chocolate cake, first preheat the oven to 350 degrees.\n",
    "\n",
    "Then, cream together 1 cup of sugar and 1 cup of butter. Add 1 tsp of vanilla extract and 4 eggs, one at a time. In a separate bowl, combine 1 3/4 cups of flour, 1/2 cup of cocoa powder, 1 tsp of baking powder, and 1/2 tsp of salt. Gradually add the dry ingredients to the wet ingredients, mixing until just combined.\n",
    "Pour the batter into a greased 9x13 inch pan and bake for 30-35 minutes. Let the cake cool before frosting and serving.\n",
    "\n",
    "If the eggs are at room temperature, the cake will rise better.\n",
    "\n",
    "For the frosting, melt 1/2 cup of butter and stir in 2/3 cup of cocoa powder. Alternately add 3 cups of powdered sugar and 1/3 cup of milk, beating to spreading consistency. Add more milk if needed.\n",
    "Spread the frosting over the cooled cake.\n",
    "\n",
    "Enjoy!\n",
    "\"\"\""
   ]
  },
  {
   "cell_type": "code",
   "execution_count": null,
   "metadata": {},
   "outputs": [],
   "source": [
    "from recipamatic.cook.recipe_core.transcriber import RecipeCoreTranscriber\n",
    "from recipamatic.langchain_openai_.chat_openai_config import DEFAULT_CHAT_OPENAI_CONFIG\n",
    "\n",
    "rc_transcriber = RecipeCoreTranscriber(DEFAULT_CHAT_OPENAI_CONFIG)\n",
    "rc = rc_transcriber.invoke(recipe_text)"
   ]
  },
  {
   "cell_type": "code",
   "execution_count": null,
   "metadata": {},
   "outputs": [],
   "source": [
    "rprint(rc)"
   ]
  },
  {
   "cell_type": "code",
   "execution_count": null,
   "metadata": {},
   "outputs": [],
   "source": [
    "# RecipeCore(\n",
    "#     preparations=[\n",
    "#         Preparation(\n",
    "#             preparation_name='Cake Preparation',\n",
    "#             ingredients=[\n",
    "#                 Ingredient(name='sugar', quantity='1 cup'),\n",
    "#                 Ingredient(name='butter', quantity='1 cup'),\n",
    "#                 Ingredient(name='vanilla extract', quantity='1 tsp'),\n",
    "#                 Ingredient(name='eggs', quantity='4'),\n",
    "#                 Ingredient(name='flour', quantity='1 3/4 cups'),\n",
    "#                 Ingredient(name='cocoa powder', quantity='1/2 cup'),\n",
    "#                 Ingredient(name='baking powder', quantity='1 tsp'),\n",
    "#                 Ingredient(name='salt', quantity='1/2 tsp')\n",
    "#             ],\n",
    "#             steps=[\n",
    "#                 Step(type=<StepType.TEXT: 'text'>, instruction='Preheat the oven to 350 degrees.'),\n",
    "#                 Step(type=<StepType.TEXT: 'text'>, instruction='Cream together the sugar and butter.'),\n",
    "#                 Step(\n",
    "#                     type=<StepType.TEXT: 'text'>,\n",
    "#                     instruction='Add the vanilla extract and eggs, one at a time.'\n",
    "#                 ),\n",
    "#                 Step(\n",
    "#                     type=<StepType.TEXT: 'text'>,\n",
    "#                     instruction='In a separate bowl, combine the flour, cocoa powder, baking powder, and salt.'\n",
    "#                 ),\n",
    "#                 Step(\n",
    "#                     type=<StepType.TEXT: 'text'>,\n",
    "#                     instruction='Gradually add the dry ingredients to the wet ingredients, mixing until just combined.'\n",
    "#                 ),\n",
    "#                 Step(type=<StepType.TEXT: 'text'>, instruction='Pour the batter into a greased 9x13 inch pan.'),\n",
    "#                 Step(type=<StepType.TEXT: 'text'>, instruction='Bake for 30-35 minutes.'),\n",
    "#                 Step(type=<StepType.TEXT: 'text'>, instruction='Let the cake cool before frosting and serving.')\n",
    "#             ]\n",
    "#         ),\n",
    "#         Preparation(\n",
    "#             preparation_name='Frosting Preparation',\n",
    "#             ingredients=[\n",
    "#                 Ingredient(name='butter', quantity='1/2 cup'),\n",
    "#                 Ingredient(name='cocoa powder', quantity='2/3 cup'),\n",
    "#                 Ingredient(name='powdered sugar', quantity='3 cups'),\n",
    "#                 Ingredient(name='milk', quantity='1/3 cup')\n",
    "#             ],\n",
    "#             steps=[\n",
    "#                 Step(type=<StepType.TEXT: 'text'>, instruction='Melt the butter and stir in the cocoa powder.'),\n",
    "#                 Step(\n",
    "#                     type=<StepType.TEXT: 'text'>,\n",
    "#                     instruction='Alternately add the powdered sugar and milk, beating to spreading consistency.'\n",
    "#                 ),\n",
    "#                 Step(type=<StepType.TEXT: 'text'>, instruction='Add more milk if needed.'),\n",
    "#                 Step(type=<StepType.TEXT: 'text'>, instruction='Spread the frosting over the cooled cake.')\n",
    "#             ]\n",
    "#         )\n",
    "#     ],\n",
    "#     notes=['If the eggs are at room temperature, the cake will rise better.']\n",
    "# )"
   ]
  },
  {
   "cell_type": "code",
   "execution_count": null,
   "metadata": {},
   "outputs": [],
   "source": [
    "from recipamatic.cook.recipe_core.editor import RecipeCoreEditor\n",
    "\n",
    "# old_step = \"Melt the butter and stir in the cocoa powder.\"\n",
    "old_step = \"Melt 1/2 cup of butter and stir in 2/3 cup of cocoa powder.\"\n",
    "new_step = \"The butter should be melted slowly over low heat, stirring in the cocoa powder until smooth.\"\n",
    "\n",
    "\n",
    "rc_editor = RecipeCoreEditor(DEFAULT_CHAT_OPENAI_CONFIG)\n",
    "re = rc_editor.invoke(rc, old_step, new_step)"
   ]
  },
  {
   "cell_type": "code",
   "execution_count": null,
   "metadata": {},
   "outputs": [],
   "source": [
    "rprint(re)"
   ]
  }
 ],
 "metadata": {
  "kernelspec": {
   "display_name": "recipamatic-ysnys36q-py3.11",
   "language": "python",
   "name": "python3"
  },
  "language_info": {
   "codemirror_mode": {
    "name": "ipython",
    "version": 3
   },
   "file_extension": ".py",
   "mimetype": "text/x-python",
   "name": "python",
   "nbconvert_exporter": "python",
   "pygments_lexer": "ipython3",
   "version": "3.11.11"
  }
 },
 "nbformat": 4,
 "nbformat_minor": 2
}
