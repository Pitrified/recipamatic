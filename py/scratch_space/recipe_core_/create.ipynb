{
 "cells": [
  {
   "cell_type": "markdown",
   "metadata": {},
   "source": [
    "# Convert transcript to RecipeCore\n"
   ]
  },
  {
   "cell_type": "code",
   "execution_count": null,
   "metadata": {},
   "outputs": [],
   "source": [
    "%load_ext autoreload\n",
    "%autoreload 2"
   ]
  },
  {
   "cell_type": "code",
   "execution_count": null,
   "metadata": {},
   "outputs": [],
   "source": [
    "import json\n",
    "from pathlib import Path\n",
    "\n",
    "from loguru import logger as lg\n",
    "from rich import print as rprint\n",
    "\n",
    "from recipamatic.config.recipamatic_config import get_recipamatic_paths\n",
    "from recipamatic.cook.recipe_core.transcriber import RecipeCoreTranscriber\n",
    "from recipamatic.langchain_openai_.chat_openai_config import DEFAULT_CHAT_OPENAI_CONFIG\n",
    "from recipamatic.social.insta.loader import InstaLoader\n",
    "from recipamatic.social.insta.structures import PostIg, ProfileIg\n",
    "from recipamatic.utils.pathlib_ import check_create_fol"
   ]
  },
  {
   "cell_type": "code",
   "execution_count": null,
   "metadata": {},
   "outputs": [],
   "source": [
    "il = InstaLoader(\"\")\n",
    "# il.login()"
   ]
  },
  {
   "cell_type": "code",
   "execution_count": null,
   "metadata": {},
   "outputs": [],
   "source": [
    "posts_fol = get_recipamatic_paths().ig_fol / \"posts\"\n",
    "posts_fol"
   ]
  },
  {
   "cell_type": "code",
   "execution_count": null,
   "metadata": {},
   "outputs": [],
   "source": [
    "recipes_fol = get_recipamatic_paths().data_fol / \"recipes\"\n",
    "check_create_fol(recipes_fol)\n",
    "recipes_fol"
   ]
  },
  {
   "cell_type": "code",
   "execution_count": null,
   "metadata": {},
   "outputs": [],
   "source": [
    "# model_type = \"base.en\"\n",
    "model_type = \"medium\"\n",
    "# model_type = \"medium.en\"\n",
    "# model_type = \"large-v3\""
   ]
  },
  {
   "cell_type": "code",
   "execution_count": null,
   "metadata": {},
   "outputs": [],
   "source": [
    "from recipamatic.langchain_openai_.chat_openai_config import ChatOpenAIConfig\n",
    "from recipamatic.utils.langchain_ import get_secret_from_env\n",
    "\n",
    "\n",
    "# oai_config = ChatOpenAIConfig(\n",
    "#     model=\"gpt-4o\",\n",
    "#     temperature=0.1,\n",
    "#     api_key=get_secret_from_env(\"OPENAI_API_KEY\"),\n",
    "# )"
   ]
  },
  {
   "cell_type": "code",
   "execution_count": null,
   "metadata": {},
   "outputs": [],
   "source": [
    "posts_fol_iter = list(posts_fol.iterdir())\n",
    "# posts_fol_iter = [Path(\"CqS6OV4osrG\")]\n",
    "\n",
    "for ip, post_fol in enumerate(posts_fol_iter):\n",
    "    post_shortcode = post_fol.name\n",
    "    lg.info(f\"{ip}/{len(posts_fol_iter)} {post_fol} - {post_shortcode}\")\n",
    "\n",
    "    transcript_fp = post_fol / f\"p_transcript_{model_type}.txt\"\n",
    "    if not transcript_fp.exists():\n",
    "        lg.warning(f\"Missing transcript {transcript_fp}\")\n",
    "        continue\n",
    "\n",
    "    rc_fol = recipes_fol / post_shortcode\n",
    "    check_create_fol(rc_fol)\n",
    "    rc_fp = rc_fol / f\"recipe_core.json\"\n",
    "    if rc_fp.exists():\n",
    "        lg.debug(f\"Recipe core already exists {rc_fp}\")\n",
    "        continue\n",
    "\n",
    "    # load post and transcript\n",
    "    post = il.load_post(post_shortcode)\n",
    "    transcript = transcript_fp.read_text().strip()\n",
    "    transcript_len = len(transcript.split())\n",
    "    if transcript_len < 20:\n",
    "        lg.warning(f\"Transcript too short {transcript_len} {transcript_fp}\")\n",
    "        transcript = \"\"\n",
    "\n",
    "    recipe_text = f\"\\n{post.caption}\\n\\n{transcript}\"\n",
    "\n",
    "    # transcribe recipe\n",
    "    rc_transcriber = RecipeCoreTranscriber(DEFAULT_CHAT_OPENAI_CONFIG)\n",
    "    # rc_transcriber = RecipeCoreTranscriber(oai_config)\n",
    "    rc = rc_transcriber.invoke(recipe_text)\n",
    "\n",
    "    # save recipe core\n",
    "    rc_dict = rc.model_dump()\n",
    "    rc_fp.write_text(json.dumps(rc_dict, indent=4))\n",
    "\n",
    "    break"
   ]
  },
  {
   "cell_type": "code",
   "execution_count": null,
   "metadata": {},
   "outputs": [],
   "source": [
    "rprint(recipe_text)\n",
    "rprint(rc)"
   ]
  }
 ],
 "metadata": {
  "kernelspec": {
   "display_name": "recipamatic-ysnys36q-py3.11",
   "language": "python",
   "name": "python3"
  },
  "language_info": {
   "codemirror_mode": {
    "name": "ipython",
    "version": 3
   },
   "file_extension": ".py",
   "mimetype": "text/x-python",
   "name": "python",
   "nbconvert_exporter": "python",
   "pygments_lexer": "ipython3",
   "version": "3.11.11"
  }
 },
 "nbformat": 4,
 "nbformat_minor": 2
}
