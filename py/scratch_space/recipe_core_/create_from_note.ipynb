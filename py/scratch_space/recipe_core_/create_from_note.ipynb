{
 "cells": [
  {
   "cell_type": "markdown",
   "metadata": {},
   "source": [
    "# Convert RecipeNote to RecipeCore\n"
   ]
  },
  {
   "cell_type": "code",
   "execution_count": null,
   "metadata": {},
   "outputs": [],
   "source": [
    "%load_ext autoreload\n",
    "%autoreload 2"
   ]
  },
  {
   "cell_type": "code",
   "execution_count": null,
   "metadata": {},
   "outputs": [],
   "source": [
    "from rich import print as rprint\n",
    "\n",
    "from recipamatic.cook.recipe_core.transcriber import RecipeCoreTranscriber\n",
    "from recipamatic.langchain_openai_.chat_openai_config import (\n",
    "    DEFAULT_CHAT_OPENAI_CONFIG,\n",
    ")\n",
    "from recipamatic.cook.recipe_note.holder import RecipeNoteHolder"
   ]
  },
  {
   "cell_type": "code",
   "execution_count": null,
   "metadata": {},
   "outputs": [],
   "source": [
    "note_code = \"20250313_210502\"\n",
    "rnh = RecipeNoteHolder.from_note_code(note_code=note_code)\n",
    "rprint(rnh.note_code)\n",
    "note = rnh.note\n",
    "rprint(note)"
   ]
  },
  {
   "cell_type": "code",
   "execution_count": null,
   "metadata": {},
   "outputs": [],
   "source": [
    "recipe_text = note.to_string()\n",
    "rprint(recipe_text)"
   ]
  },
  {
   "cell_type": "code",
   "execution_count": null,
   "metadata": {},
   "outputs": [],
   "source": [
    "rc_transcriber = RecipeCoreTranscriber(DEFAULT_CHAT_OPENAI_CONFIG)\n",
    "rc = rc_transcriber.invoke(recipe_text)\n",
    "rprint(rc)"
   ]
  },
  {
   "cell_type": "code",
   "execution_count": null,
   "metadata": {},
   "outputs": [],
   "source": [
    "from recipamatic.utils.datetime_ import generate_timestamp_code\n",
    "\n",
    "\n",
    "save_note_code = f\"{note_code}___{generate_timestamp_code()}\"\n",
    "save_note_code"
   ]
  },
  {
   "cell_type": "code",
   "execution_count": null,
   "metadata": {},
   "outputs": [],
   "source": [
    "from recipamatic.cook.recipe_core.holder import RecipeCoreHolder\n",
    "\n",
    "rc_holder = RecipeCoreHolder.from_recipe(save_note_code, rc)\n",
    "rc_holder.save_recipe()"
   ]
  }
 ],
 "metadata": {
  "kernelspec": {
   "display_name": "recipamatic-ysnys36q-py3.11",
   "language": "python",
   "name": "python3"
  },
  "language_info": {
   "codemirror_mode": {
    "name": "ipython",
    "version": 3
   },
   "file_extension": ".py",
   "mimetype": "text/x-python",
   "name": "python",
   "nbconvert_exporter": "python",
   "pygments_lexer": "ipython3",
   "version": "3.11.11"
  }
 },
 "nbformat": 4,
 "nbformat_minor": 2
}
