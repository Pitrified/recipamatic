{
 "cells": [
  {
   "cell_type": "markdown",
   "metadata": {},
   "source": [
    "# Sample use of a `RecipeNote`\n"
   ]
  },
  {
   "cell_type": "code",
   "execution_count": 2,
   "metadata": {},
   "outputs": [],
   "source": [
    "%load_ext autoreload\n",
    "%autoreload 2\n"
   ]
  },
  {
   "cell_type": "code",
   "execution_count": 3,
   "metadata": {},
   "outputs": [],
   "source": [
    "from rich import print as rprint"
   ]
  },
  {
   "cell_type": "code",
   "execution_count": null,
   "metadata": {},
   "outputs": [],
   "source": []
  },
  {
   "cell_type": "markdown",
   "metadata": {},
   "source": [
    "## Create a `RecipeNote` object\n"
   ]
  },
  {
   "cell_type": "code",
   "execution_count": null,
   "metadata": {},
   "outputs": [],
   "source": [
    "from recipamatic.cook.recipe_note.model import RecipeNote\n",
    "\n",
    "\n",
    "rn = RecipeNote()\n",
    "rn"
   ]
  },
  {
   "cell_type": "code",
   "execution_count": null,
   "metadata": {},
   "outputs": [],
   "source": [
    "rn.add_note(\"This is a note\")\n",
    "rprint(rn)"
   ]
  },
  {
   "cell_type": "markdown",
   "metadata": {},
   "source": [
    "## Save the `RecipeNote` object to a file\n"
   ]
  },
  {
   "cell_type": "code",
   "execution_count": 6,
   "metadata": {},
   "outputs": [],
   "source": [
    "from pathlib import Path\n",
    "\n",
    "\n",
    "dump_fp = Path(\"test_note.json\")"
   ]
  },
  {
   "cell_type": "code",
   "execution_count": null,
   "metadata": {},
   "outputs": [],
   "source": [
    "js = rn.model_dump_json(indent=4)\n",
    "dump_fp.write_text(js)"
   ]
  },
  {
   "cell_type": "markdown",
   "metadata": {},
   "source": [
    "## Load the `RecipeNote` object from a file\n"
   ]
  },
  {
   "cell_type": "code",
   "execution_count": null,
   "metadata": {},
   "outputs": [],
   "source": [
    "js = dump_fp.read_text()\n",
    "rn2 = RecipeNote.model_validate_json(js)\n",
    "rprint(rn2)"
   ]
  },
  {
   "cell_type": "markdown",
   "metadata": {},
   "source": [
    "## Create a `RecipeNote` object with some notes spaced apart\n"
   ]
  },
  {
   "cell_type": "code",
   "execution_count": null,
   "metadata": {},
   "outputs": [],
   "source": [
    "from datetime import datetime\n",
    "from recipamatic.cook.recipe_note.model import Note\n",
    "\n",
    "\n",
    "time_fmt = \"%Y-%m-%d_%H:%M:%S\"\n",
    "\n",
    "rn = RecipeNote(\n",
    "    start_timestamp=datetime.strptime(\"2021-01-01_12:00:00\", time_fmt),\n",
    ")\n",
    "\n",
    "n1 = Note(\n",
    "    text=\"This is a note\",\n",
    "    timestamp=datetime.strptime(\"2021-01-01_12:00:10\", time_fmt),\n",
    ")\n",
    "rn.notes.append(n1)\n",
    "\n",
    "n2 = Note(\n",
    "    text=\"This is another note\",\n",
    "    timestamp=datetime.strptime(\"2021-01-01_12:00:20\", time_fmt),\n",
    ")\n",
    "rn.notes.append(n2)\n",
    "\n",
    "n3 = Note(\n",
    "    text=\"This is a third note\",\n",
    "    timestamp=datetime.strptime(\"2021-01-01_12:10:00\", time_fmt),\n",
    ")\n",
    "rn.notes.append(n3)\n",
    "\n",
    "rprint(rn)"
   ]
  },
  {
   "cell_type": "code",
   "execution_count": null,
   "metadata": {},
   "outputs": [],
   "source": [
    "rprint(rn.to_string())"
   ]
  }
 ],
 "metadata": {
  "kernelspec": {
   "display_name": "recipamatic-ysnys36q-py3.11",
   "language": "python",
   "name": "python3"
  },
  "language_info": {
   "codemirror_mode": {
    "name": "ipython",
    "version": 3
   },
   "file_extension": ".py",
   "mimetype": "text/x-python",
   "name": "python",
   "nbconvert_exporter": "python",
   "pygments_lexer": "ipython3",
   "version": "3.11.11"
  }
 },
 "nbformat": 4,
 "nbformat_minor": 2
}
