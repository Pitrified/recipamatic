{
 "cells": [
  {
   "cell_type": "markdown",
   "metadata": {},
   "source": [
    "# Load posts from a shortcode list\n"
   ]
  },
  {
   "cell_type": "code",
   "execution_count": null,
   "metadata": {},
   "outputs": [],
   "source": [
    "%load_ext autoreload\n",
    "%autoreload 2"
   ]
  },
  {
   "cell_type": "code",
   "execution_count": null,
   "metadata": {},
   "outputs": [],
   "source": [
    "from time import sleep\n",
    "\n",
    "from recipamatic.social.insta.loader import InstaLoader\n",
    "from recipamatic.social.insta.structures import PostIg, ProfileIg\n",
    "from loguru import logger as lg"
   ]
  },
  {
   "cell_type": "markdown",
   "metadata": {},
   "source": [
    "## Instantiate the instaloader class\n"
   ]
  },
  {
   "cell_type": "code",
   "execution_count": null,
   "metadata": {},
   "outputs": [],
   "source": [
    "il = InstaLoader(\"\")\n",
    "# il.login()"
   ]
  },
  {
   "cell_type": "markdown",
   "metadata": {},
   "source": [
    "## Load a list of shortcodes\n"
   ]
  },
  {
   "cell_type": "markdown",
   "metadata": {},
   "source": [
    "Should clearly be a class to handle IG links\n"
   ]
  },
  {
   "cell_type": "code",
   "execution_count": null,
   "metadata": {},
   "outputs": [],
   "source": [
    "from pathlib import Path\n",
    "\n",
    "shortcodes_fn = \"shortcode_list.txt\"\n",
    "shortcodes_fp = Path(shortcodes_fn)\n",
    "\n",
    "shortcodes_raw = shortcodes_fp.read_text().splitlines()\n",
    "shortcodes_raw"
   ]
  },
  {
   "cell_type": "code",
   "execution_count": null,
   "metadata": {},
   "outputs": [],
   "source": [
    "shortcodes_raw = [\n",
    "    \"https://www.instagram.com/reel/DCmdWSboLhb/? Pesto di pomodorini al forno, Olive oil Ricotta Basil Parmesan cheese Salt & Pepper\",\n",
    "]"
   ]
  },
  {
   "cell_type": "code",
   "execution_count": null,
   "metadata": {},
   "outputs": [],
   "source": [
    "# extract the shortcode from the url\n",
    "\n",
    "import re\n",
    "\n",
    "from instaloader import BadResponseException\n",
    "\n",
    "shortcodes = []\n",
    "\n",
    "for input_str in shortcodes_raw:\n",
    "    # print(f\"{input_str=}\")\n",
    "    url_match = re.findall(r\"(?P<url>https?://[^\\s]+)\", input_str)\n",
    "    if not url_match:\n",
    "        print(f\"No match {input_str=}\")\n",
    "        continue\n",
    "    url = url_match[0]\n",
    "    print(f\"{url=}\")\n",
    "    url_pieces = url.split(\"/\")\n",
    "    if len(url_pieces) < 5:\n",
    "        print(f\"Skipping {url=} {url_pieces=}\")\n",
    "        continue\n",
    "    type_content = url_pieces[-3]\n",
    "    print(f\"{type_content=}\")\n",
    "    site = url.split(\"/\")[-4]\n",
    "    print(f\"{site=}\")\n",
    "    shortcode = url.split(\"/\")[-2]\n",
    "    print(f\"{shortcode=}\")\n",
    "\n",
    "    if site != \"www.instagram.com\":\n",
    "        print(f\"Skipping {site=} {url=}\")\n",
    "        continue\n",
    "\n",
    "    if type_content != \"reel\":\n",
    "        print(f\"Skipping {type_content=} {url=}\")\n",
    "        continue\n",
    "\n",
    "    # print()\n",
    "    shortcodes.append(shortcode)\n",
    "\n",
    "    # break\n",
    "\n",
    "shortcodes"
   ]
  },
  {
   "cell_type": "code",
   "execution_count": null,
   "metadata": {},
   "outputs": [],
   "source": [
    "from random import randint\n",
    "\n",
    "for si, shortcode in enumerate(shortcodes):\n",
    "    lg.info(f\"{si}/{len(shortcodes)}, {shortcode=}\")\n",
    "    if PostIg.has_json(shortcode):\n",
    "        lg.info(f\"Post {shortcode} exists in cache.\")\n",
    "        continue\n",
    "\n",
    "    try:\n",
    "        ps = il.load_post(shortcode)\n",
    "    except BadResponseException as e:\n",
    "        lg.warning(f\"Bad response for {shortcode}\")\n",
    "        continue\n",
    "\n",
    "    pf = il.load_profile(ps.profile)\n",
    "\n",
    "    # break\n",
    "\n",
    "    sleep(6)\n",
    "    # random sleep to avoid being banned\n",
    "    sleep(randint(1, 5))\n",
    "\n",
    "    # print(ps)\n",
    "    # print(pf)\n",
    "\n",
    "    break"
   ]
  },
  {
   "cell_type": "code",
   "execution_count": null,
   "metadata": {},
   "outputs": [],
   "source": [
    "ps = il.load_post(shortcodes[1])\n",
    "pf = il.load_profile(ps.profile)"
   ]
  },
  {
   "cell_type": "code",
   "execution_count": null,
   "metadata": {},
   "outputs": [],
   "source": [
    "# ps\n",
    "pf"
   ]
  }
 ],
 "metadata": {
  "kernelspec": {
   "display_name": "recipamatic-ysnys36q-py3.11",
   "language": "python",
   "name": "python3"
  },
  "language_info": {
   "codemirror_mode": {
    "name": "ipython",
    "version": 3
   },
   "file_extension": ".py",
   "mimetype": "text/x-python",
   "name": "python",
   "nbconvert_exporter": "python",
   "pygments_lexer": "ipython3",
   "version": "3.11.11"
  }
 },
 "nbformat": 4,
 "nbformat_minor": 2
}
